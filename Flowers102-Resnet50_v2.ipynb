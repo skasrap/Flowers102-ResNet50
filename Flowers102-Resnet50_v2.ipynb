{
 "cells": [
  {
   "cell_type": "markdown",
   "id": "094ffcb8",
   "metadata": {
    "papermill": {
     "duration": 0.003147,
     "end_time": "2023-10-05T12:37:09.911547",
     "exception": false,
     "start_time": "2023-10-05T12:37:09.908400",
     "status": "completed"
    },
    "tags": []
   },
   "source": [
    "**Here I will try to implement ResNet 50 on the 102 Flowers dataset. I begin with loading the data. Then  I train and evaluate the performance of ResNet 50 on the loaded data.**"
   ]
  },
  {
   "cell_type": "code",
   "execution_count": 1,
   "id": "db54f4f5",
   "metadata": {
    "execution": {
     "iopub.execute_input": "2023-10-05T12:37:09.918764Z",
     "iopub.status.busy": "2023-10-05T12:37:09.918466Z",
     "iopub.status.idle": "2023-10-05T12:37:37.026957Z",
     "shell.execute_reply": "2023-10-05T12:37:37.025914Z"
    },
    "papermill": {
     "duration": 27.114396,
     "end_time": "2023-10-05T12:37:37.028906",
     "exception": false,
     "start_time": "2023-10-05T12:37:09.914510",
     "status": "completed"
    },
    "tags": []
   },
   "outputs": [
    {
     "name": "stdout",
     "output_type": "stream",
     "text": [
      "--2023-10-05 12:37:10--  http://www.robots.ox.ac.uk/~vgg/data/flowers/102/102flowers.tgz\r\n",
      "Resolving www.robots.ox.ac.uk (www.robots.ox.ac.uk)... 129.67.94.2\r\n",
      "Connecting to www.robots.ox.ac.uk (www.robots.ox.ac.uk)|129.67.94.2|:80... connected.\r\n",
      "HTTP request sent, awaiting response... 301 Moved Permanently\r\n",
      "Location: https://www.robots.ox.ac.uk/~vgg/data/flowers/102/102flowers.tgz [following]\r\n",
      "--2023-10-05 12:37:11--  https://www.robots.ox.ac.uk/~vgg/data/flowers/102/102flowers.tgz\r\n",
      "Connecting to www.robots.ox.ac.uk (www.robots.ox.ac.uk)|129.67.94.2|:443... connected.\r\n",
      "HTTP request sent, awaiting response... 301 Moved Permanently\r\n",
      "Location: https://thor.robots.ox.ac.uk/datasets/flowers-102/102flowers.tgz [following]\r\n",
      "--2023-10-05 12:37:11--  https://thor.robots.ox.ac.uk/datasets/flowers-102/102flowers.tgz\r\n",
      "Resolving thor.robots.ox.ac.uk (thor.robots.ox.ac.uk)... 129.67.95.98\r\n",
      "Connecting to thor.robots.ox.ac.uk (thor.robots.ox.ac.uk)|129.67.95.98|:443... connected.\r\n",
      "HTTP request sent, awaiting response... 200 OK\r\n",
      "Length: 344862509 (329M) [application/octet-stream]\r\n",
      "Saving to: ‘102flowers.tgz’\r\n",
      "\r\n",
      "102flowers.tgz      100%[===================>] 328.89M  21.5MB/s    in 17s     \r\n",
      "\r\n",
      "2023-10-05 12:37:29 (19.9 MB/s) - ‘102flowers.tgz’ saved [344862509/344862509]\r\n",
      "\r\n",
      "URL transformed to HTTPS due to an HSTS policy\r\n",
      "--2023-10-05 12:37:35--  https://www.robots.ox.ac.uk/~vgg/data/flowers/102/imagelabels.mat\r\n",
      "Resolving www.robots.ox.ac.uk (www.robots.ox.ac.uk)... 129.67.94.2\r\n",
      "Connecting to www.robots.ox.ac.uk (www.robots.ox.ac.uk)|129.67.94.2|:443... connected.\r\n",
      "HTTP request sent, awaiting response... 301 Moved Permanently\r\n",
      "Location: https://thor.robots.ox.ac.uk/datasets/flowers-102/imagelabels.mat [following]\r\n",
      "--2023-10-05 12:37:36--  https://thor.robots.ox.ac.uk/datasets/flowers-102/imagelabels.mat\r\n",
      "Resolving thor.robots.ox.ac.uk (thor.robots.ox.ac.uk)... 129.67.95.98\r\n",
      "Connecting to thor.robots.ox.ac.uk (thor.robots.ox.ac.uk)|129.67.95.98|:443... connected.\r\n",
      "HTTP request sent, awaiting response... 200 OK\r\n",
      "Length: 502 [application/octet-stream]\r\n",
      "Saving to: ‘imagelabels.mat’\r\n",
      "\r\n",
      "imagelabels.mat     100%[===================>]     502  --.-KB/s    in 0s      \r\n",
      "\r\n",
      "2023-10-05 12:37:36 (164 MB/s) - ‘imagelabels.mat’ saved [502/502]\r\n",
      "\r\n"
     ]
    }
   ],
   "source": [
    "# Downloading the main data files\n",
    "!wget http://www.robots.ox.ac.uk/~vgg/data/flowers/102/102flowers.tgz\n",
    "!tar -xzf 102flowers.tgz\n",
    "!rm 102flowers.tgz\n",
    "!wget http://www.robots.ox.ac.uk/~vgg/data/flowers/102/imagelabels.mat"
   ]
  },
  {
   "cell_type": "code",
   "execution_count": 2,
   "id": "35a29da2",
   "metadata": {
    "execution": {
     "iopub.execute_input": "2023-10-05T12:37:37.043978Z",
     "iopub.status.busy": "2023-10-05T12:37:37.043678Z",
     "iopub.status.idle": "2023-10-05T12:37:49.990115Z",
     "shell.execute_reply": "2023-10-05T12:37:49.988645Z"
    },
    "papermill": {
     "duration": 12.956126,
     "end_time": "2023-10-05T12:37:49.992021",
     "exception": false,
     "start_time": "2023-10-05T12:37:37.035895",
     "status": "completed"
    },
    "tags": []
   },
   "outputs": [
    {
     "name": "stderr",
     "output_type": "stream",
     "text": [
      "/opt/conda/lib/python3.10/site-packages/scipy/__init__.py:146: UserWarning: A NumPy version >=1.16.5 and <1.23.0 is required for this version of SciPy (detected version 1.23.5\n",
      "  warnings.warn(f\"A NumPy version >={np_minversion} and <{np_maxversion}\"\n"
     ]
    },
    {
     "name": "stdout",
     "output_type": "stream",
     "text": [
      "Import Completed\n",
      "GPU yay!\n"
     ]
    }
   ],
   "source": [
    "# Importing Needed Libraries\n",
    "import tarfile as tf\n",
    "import os\n",
    "import numpy as np\n",
    "import torch\n",
    "from torchvision import datasets, models, transforms\n",
    "import torch.nn as nn\n",
    "import torch.optim as optim\n",
    "from torch.utils.data import Dataset, DataLoader\n",
    "from PIL import Image\n",
    "from scipy.io import loadmat\n",
    "from tqdm import tqdm\n",
    "from matplotlib import pyplot as plt\n",
    "from sklearn.model_selection import train_test_split as tts\n",
    "from keras.utils import to_categorical\n",
    "from collections import Counter\n",
    "\n",
    "print ('Import Completed')\n",
    "\n",
    "def set_device(): # Function to help with determining the accelerator\n",
    "  device = 'cuda' if torch.cuda.is_available() else 'cpu'\n",
    "  if device == 'cuda':\n",
    "    print('GPU yay!')\n",
    "  elif device == 'cpu':\n",
    "    print('CPU :|')\n",
    "  return device\n",
    "DEVICE = set_device()"
   ]
  },
  {
   "cell_type": "code",
   "execution_count": 3,
   "id": "5e0f8df4",
   "metadata": {
    "execution": {
     "iopub.execute_input": "2023-10-05T12:37:50.007388Z",
     "iopub.status.busy": "2023-10-05T12:37:50.006885Z",
     "iopub.status.idle": "2023-10-05T12:38:14.130147Z",
     "shell.execute_reply": "2023-10-05T12:38:14.129158Z"
    },
    "papermill": {
     "duration": 24.133574,
     "end_time": "2023-10-05T12:38:14.132719",
     "exception": false,
     "start_time": "2023-10-05T12:37:49.999145",
     "status": "completed"
    },
    "tags": []
   },
   "outputs": [
    {
     "name": "stderr",
     "output_type": "stream",
     "text": [
      "100%|██████████| 8189/8189 [00:24<00:00, 339.67it/s]"
     ]
    },
    {
     "name": "stdout",
     "output_type": "stream",
     "text": [
      "Number of total images is: 8189\n"
     ]
    },
    {
     "name": "stderr",
     "output_type": "stream",
     "text": [
      "\n"
     ]
    }
   ],
   "source": [
    "# Load the images from the folder into a python list, as numpy arrays\n",
    "image_folder = \"/kaggle/working/jpg\"\n",
    "all_imgs = list()\n",
    "all_labels = []\n",
    "for img_name in tqdm(os.listdir(image_folder)):\n",
    "    image_path = os.path.join(image_folder, img_name)\n",
    "    img = Image.open(image_path)\n",
    "    img_array = np.array(img)\n",
    "    all_imgs.append(img_array)\n",
    "    all_labels.append(int(img_name[6:11])-1)\n",
    "    # see whether there are any images with different shapes or dimensions in the dataset\n",
    "    if len(img_array.shape) != 3 or img_array.shape[2] != 3:\n",
    "        print('Differing dimension/shape detected!')\n",
    "\n",
    "print(f\"Number of total images is: {len(all_imgs)}\")"
   ]
  },
  {
   "cell_type": "code",
   "execution_count": 4,
   "id": "ca42363a",
   "metadata": {
    "execution": {
     "iopub.execute_input": "2023-10-05T12:38:14.166945Z",
     "iopub.status.busy": "2023-10-05T12:38:14.166361Z",
     "iopub.status.idle": "2023-10-05T12:38:14.175850Z",
     "shell.execute_reply": "2023-10-05T12:38:14.174974Z"
    },
    "papermill": {
     "duration": 0.028132,
     "end_time": "2023-10-05T12:38:14.177533",
     "exception": false,
     "start_time": "2023-10-05T12:38:14.149401",
     "status": "completed"
    },
    "tags": []
   },
   "outputs": [
    {
     "name": "stdout",
     "output_type": "stream",
     "text": [
      "Max width: 1168; Min width: 500\n",
      "Max height:1024; Min height: 500\n"
     ]
    }
   ],
   "source": [
    "# To see the range of image shapes and make sure there are no corrupt files\n",
    "xshapes = []\n",
    "yshapes = []\n",
    "for i in all_imgs:\n",
    "    xshapes.append(i.shape[0])\n",
    "    yshapes.append(i.shape[1])\n",
    "print(f\"Max width: {max(xshapes)}; Min width: {min(xshapes)}\")\n",
    "print(f\"Max height:{max(yshapes)}; Min height: {min(yshapes)}\")"
   ]
  },
  {
   "cell_type": "code",
   "execution_count": 5,
   "id": "ff6ee0f1",
   "metadata": {
    "execution": {
     "iopub.execute_input": "2023-10-05T12:38:14.213884Z",
     "iopub.status.busy": "2023-10-05T12:38:14.213601Z",
     "iopub.status.idle": "2023-10-05T12:38:14.242045Z",
     "shell.execute_reply": "2023-10-05T12:38:14.241058Z"
    },
    "papermill": {
     "duration": 0.050433,
     "end_time": "2023-10-05T12:38:14.243646",
     "exception": false,
     "start_time": "2023-10-05T12:38:14.193213",
     "status": "completed"
    },
    "tags": []
   },
   "outputs": [
    {
     "name": "stdout",
     "output_type": "stream",
     "text": [
      "dict_keys(['__header__', '__version__', '__globals__', 'labels'])\n",
      "Number of total labels is: 8189\n",
      "Range of labels: 0 - 101\n",
      "Number of classes: 102\n",
      "Most repeated label is 51: 258 times\n",
      "Least repeated label is 7: 40 times\n"
     ]
    }
   ],
   "source": [
    "# Load the Labels as Mat objects and explore them\n",
    "img_labels = loadmat(\"imagelabels.mat\")\n",
    "print(img_labels.keys())\n",
    "img_labels = img_labels['labels'][0]\n",
    "print(f\"Number of total labels is: {len(img_labels)}\")\n",
    "\n",
    "# convert the indices in all_labels list to the actual label of their corresponding image\n",
    "all_labels = [img_labels[i] - 1 for i in all_labels] # Since the to_categorical function expects values to start from 0,\n",
    "print(f\"Range of labels: {min(all_labels)} - {max(all_labels)}\") # I subtract 1 from all label values.\n",
    "\n",
    "# convert numbers to\n",
    "all_labels = to_categorical(all_labels, num_classes = 102, dtype = float)\n",
    "\n",
    "print(f\"Number of classes: {all_labels.shape[1]}\")\n",
    "\n",
    "# To make sure there are enough examples for each of the labels, Let's check the min and max occurences.\n",
    "label_counts = Counter(img_labels)\n",
    "print(f\"Most repeated label is {label_counts.most_common()[0][0]}: {label_counts.most_common()[0][1]} times\")\n",
    "print(f\"Least repeated label is {label_counts.most_common()[-1][0]}: {label_counts.most_common()[-1][1]} times\")"
   ]
  },
  {
   "cell_type": "code",
   "execution_count": 6,
   "id": "17084077",
   "metadata": {
    "execution": {
     "iopub.execute_input": "2023-10-05T12:38:14.277125Z",
     "iopub.status.busy": "2023-10-05T12:38:14.276592Z",
     "iopub.status.idle": "2023-10-05T12:38:15.008236Z",
     "shell.execute_reply": "2023-10-05T12:38:15.007355Z"
    },
    "papermill": {
     "duration": 0.750591,
     "end_time": "2023-10-05T12:38:15.010087",
     "exception": false,
     "start_time": "2023-10-05T12:38:14.259496",
     "status": "completed"
    },
    "tags": []
   },
   "outputs": [
    {
     "data": {
      "image/png": "[encoded data removed]",
      "text/plain": [
       "<Figure size 640x480 with 1 Axes>"
      ]
     },
     "metadata": {},
     "output_type": "display_data"
    }
   ],
   "source": [
    "# And now let's visualize the distribution of frequencies:\n",
    "values = label_counts.keys()\n",
    "counts = label_counts.values()\n",
    "plt.bar(values, counts)\n",
    "# Generate a uniform distribution to visually compare with our data\n",
    "num_samples = len(img_labels)\n",
    "min_value = min(img_labels)\n",
    "max_value = max(img_labels)\n",
    "uniform_data = np.random.randint(min_value, max_value + 1, num_samples) # create a uniform distribution within the same range\n",
    "\n",
    "# Count the occurrences of each value in the uniform distribution\n",
    "uniform_value_counts = Counter(uniform_data)\n",
    "\n",
    "# Extract values and counts for plotting\n",
    "uniform_values = list(uniform_value_counts.keys())\n",
    "uniform_counts = list(uniform_value_counts.values())\n",
    "# Create the bar chart\n",
    "plt.bar(uniform_values, uniform_counts, alpha=0.25, color='red', label='Uniform Distribution')\n",
    "\n",
    "plt.xlabel('Labels')\n",
    "plt.ylabel('Frequency')\n",
    "plt.title('Frequency Distribution of Flowers')\n",
    "plt.show()"
   ]
  },
  {
   "cell_type": "code",
   "execution_count": 7,
   "id": "8b6f9981",
   "metadata": {
    "execution": {
     "iopub.execute_input": "2023-10-05T12:38:15.049536Z",
     "iopub.status.busy": "2023-10-05T12:38:15.049267Z",
     "iopub.status.idle": "2023-10-05T12:38:15.066388Z",
     "shell.execute_reply": "2023-10-05T12:38:15.065567Z"
    },
    "papermill": {
     "duration": 0.041144,
     "end_time": "2023-10-05T12:38:15.068119",
     "exception": false,
     "start_time": "2023-10-05T12:38:15.026975",
     "status": "completed"
    },
    "tags": []
   },
   "outputs": [],
   "source": [
    "# Here I split the data into train, validation, and test sets.\n",
    "trainx, testx, trainy, testy = tts(all_imgs, all_labels, test_size = 0.2, random_state = 7)\n",
    "valx, testx, valy, testy = tts(testx, testy, test_size = 0.5, random_state = 7)\n",
    "# Create datasets corresponding to train, valid, and test data, to load them later on via dataloaders to the neural network.\n",
    "class data_set(Dataset):\n",
    "    def __init__(self, img, label, transform = None):\n",
    "        self.img = img\n",
    "        self.label = label\n",
    "        self.transform = transform\n",
    "    def __getitem__(self, idx):\n",
    "        img = self.img[idx]\n",
    "        label = self.label[idx]\n",
    "        if self.transform:\n",
    "            img = self.transform(img)\n",
    "        return img, label\n",
    "    def __len__(self):\n",
    "        return len(self.label)\n",
    "    \n",
    "transform = transforms.Compose([\n",
    "    transforms.ToTensor(),\n",
    "    transforms.Resize((224, 224), interpolation=Image.BILINEAR, antialias = None)\n",
    "])\n",
    "\n",
    "train_transform = transforms.Compose([\n",
    "    transform,\n",
    "    transforms.RandomHorizontalFlip(p=0.1),\n",
    "    transforms.RandomRotation(degrees = 10),\n",
    "])\n",
    "\n",
    "batch_size = 128 # This batch size seems to work well with my resources!\n",
    "train_set = data_set(trainx, trainy, transform = train_transform)\n",
    "val_set = data_set(valx, valy, transform = transform)\n",
    "test_set = data_set(testx, testy, transform = transform)\n",
    "\n",
    "train_loader = DataLoader(train_set, batch_size, shuffle = True)\n",
    "val_loader = DataLoader(val_set, batch_size, shuffle = False)\n",
    "test_loader = DataLoader(test_set, batch_size, shuffle = False)"
   ]
  },
  {
   "cell_type": "code",
   "execution_count": 8,
   "id": "f90c1887",
   "metadata": {
    "execution": {
     "iopub.execute_input": "2023-10-05T12:38:15.102084Z",
     "iopub.status.busy": "2023-10-05T12:38:15.101517Z",
     "iopub.status.idle": "2023-10-05T12:38:21.322373Z",
     "shell.execute_reply": "2023-10-05T12:38:21.321330Z"
    },
    "papermill": {
     "duration": 6.239855,
     "end_time": "2023-10-05T12:38:21.324277",
     "exception": false,
     "start_time": "2023-10-05T12:38:15.084422",
     "status": "completed"
    },
    "tags": []
   },
   "outputs": [
    {
     "name": "stderr",
     "output_type": "stream",
     "text": [
      "Downloading: \"https://download.pytorch.org/models/resnet50-11ad3fa6.pth\" to /root/.cache/torch/hub/checkpoints/resnet50-11ad3fa6.pth\n",
      "100%|██████████| 97.8M/97.8M [00:00<00:00, 279MB/s]\n"
     ]
    },
    {
     "name": "stdout",
     "output_type": "stream",
     "text": [
      "Resnet 50 Loaded on cuda. Total Trainable Parameters: 208998\n"
     ]
    }
   ],
   "source": [
    "# Now Let's load the ResNet 50 and intiialize its hyperparamteres.\n",
    "\n",
    "resnet = models.resnet50(weights=models.ResNet50_Weights.DEFAULT) # set the model to be loaded as pretrained\n",
    "\n",
    "for param in resnet.parameters(): # I freeze the weights to only train the classifier layer (here it is frozen),\n",
    "    param.requires_grad = False     # while keeping the model's feature extraction capability\n",
    "\n",
    "\n",
    "# And next I modify the final later to output the same number of categories in the dataset.\n",
    "resnet.fc = nn.Sequential(\n",
    "            nn.Linear(resnet.fc.in_features, 102),\n",
    "            nn.Softmax(dim = 1)  # Add a softmax activation to produce class probabilities.\n",
    "            )\n",
    "\n",
    "resnet.to(DEVICE) # Hopefully Cuda!\n",
    "total_params = sum(p.numel() for p in resnet.parameters() if p.requires_grad)\n",
    "print(f\"Resnet 50 Loaded on {DEVICE}. Total Trainable Parameters: {total_params}\")"
   ]
  },
  {
   "cell_type": "code",
   "execution_count": 9,
   "id": "33e065c7",
   "metadata": {
    "execution": {
     "iopub.execute_input": "2023-10-05T12:38:21.364891Z",
     "iopub.status.busy": "2023-10-05T12:38:21.364102Z",
     "iopub.status.idle": "2023-10-05T13:23:16.294333Z",
     "shell.execute_reply": "2023-10-05T13:23:16.293441Z"
    },
    "papermill": {
     "duration": 2694.974471,
     "end_time": "2023-10-05T13:23:16.318397",
     "exception": false,
     "start_time": "2023-10-05T12:38:21.343926",
     "status": "completed"
    },
    "tags": []
   },
   "outputs": [
    {
     "name": "stderr",
     "output_type": "stream",
     "text": [
      "  2%|▏         | 1/50 [00:58<47:55, 58.68s/it]"
     ]
    },
    {
     "name": "stdout",
     "output_type": "stream",
     "text": [
      "Epoch [1/50] - Training Loss: 4.4981 - Training Accuracy: 24.01%\n",
      "Epoch [1/50] - Validation Loss: 4.3251 - Validation Accuracy: 47.74%\n"
     ]
    },
    {
     "name": "stderr",
     "output_type": "stream",
     "text": [
      "  4%|▍         | 2/50 [01:52<44:39, 55.81s/it]"
     ]
    },
    {
     "name": "stdout",
     "output_type": "stream",
     "text": [
      "Epoch [2/50] - Training Loss: 4.1842 - Training Accuracy: 58.91%\n",
      "Epoch [2/50] - Validation Loss: 4.1253 - Validation Accuracy: 61.66%\n"
     ]
    },
    {
     "name": "stderr",
     "output_type": "stream",
     "text": [
      "  6%|▌         | 3/50 [02:46<42:58, 54.86s/it]"
     ]
    },
    {
     "name": "stdout",
     "output_type": "stream",
     "text": [
      "Epoch [3/50] - Training Loss: 4.0294 - Training Accuracy: 70.71%\n",
      "Epoch [3/50] - Validation Loss: 4.0275 - Validation Accuracy: 70.57%\n"
     ]
    },
    {
     "name": "stderr",
     "output_type": "stream",
     "text": [
      "  8%|▊         | 4/50 [03:39<41:32, 54.18s/it]"
     ]
    },
    {
     "name": "stdout",
     "output_type": "stream",
     "text": [
      "Epoch [4/50] - Training Loss: 3.9451 - Training Accuracy: 77.45%\n",
      "Epoch [4/50] - Validation Loss: 3.9561 - Validation Accuracy: 76.56%\n"
     ]
    },
    {
     "name": "stderr",
     "output_type": "stream",
     "text": [
      " 10%|█         | 5/50 [04:33<40:30, 54.01s/it]"
     ]
    },
    {
     "name": "stdout",
     "output_type": "stream",
     "text": [
      "Epoch [5/50] - Training Loss: 3.8871 - Training Accuracy: 81.83%\n",
      "Epoch [5/50] - Validation Loss: 3.9194 - Validation Accuracy: 79.98%\n"
     ]
    },
    {
     "name": "stderr",
     "output_type": "stream",
     "text": [
      " 12%|█▏        | 6/50 [05:26<39:29, 53.85s/it]"
     ]
    },
    {
     "name": "stdout",
     "output_type": "stream",
     "text": [
      "Epoch [6/50] - Training Loss: 3.8521 - Training Accuracy: 84.63%\n",
      "Epoch [6/50] - Validation Loss: 3.8937 - Validation Accuracy: 81.20%\n"
     ]
    },
    {
     "name": "stderr",
     "output_type": "stream",
     "text": [
      " 14%|█▍        | 7/50 [06:19<38:26, 53.64s/it]"
     ]
    },
    {
     "name": "stdout",
     "output_type": "stream",
     "text": [
      "Epoch [7/50] - Training Loss: 3.8272 - Training Accuracy: 86.02%\n",
      "Epoch [7/50] - Validation Loss: 3.8738 - Validation Accuracy: 82.91%\n"
     ]
    },
    {
     "name": "stderr",
     "output_type": "stream",
     "text": [
      " 16%|█▌        | 8/50 [07:13<37:33, 53.66s/it]"
     ]
    },
    {
     "name": "stdout",
     "output_type": "stream",
     "text": [
      "Epoch [8/50] - Training Loss: 3.8117 - Training Accuracy: 86.80%\n",
      "Epoch [8/50] - Validation Loss: 3.8582 - Validation Accuracy: 83.64%\n"
     ]
    },
    {
     "name": "stderr",
     "output_type": "stream",
     "text": [
      " 18%|█▊        | 9/50 [08:07<36:43, 53.74s/it]"
     ]
    },
    {
     "name": "stdout",
     "output_type": "stream",
     "text": [
      "Epoch [9/50] - Training Loss: 3.8003 - Training Accuracy: 87.39%\n",
      "Epoch [9/50] - Validation Loss: 3.8509 - Validation Accuracy: 83.88%\n"
     ]
    },
    {
     "name": "stderr",
     "output_type": "stream",
     "text": [
      " 20%|██        | 10/50 [09:01<35:47, 53.69s/it]"
     ]
    },
    {
     "name": "stdout",
     "output_type": "stream",
     "text": [
      "Epoch [10/50] - Training Loss: 3.7909 - Training Accuracy: 88.08%\n",
      "Epoch [10/50] - Validation Loss: 3.8372 - Validation Accuracy: 85.47%\n"
     ]
    },
    {
     "name": "stderr",
     "output_type": "stream",
     "text": [
      " 22%|██▏       | 11/50 [09:54<34:57, 53.77s/it]"
     ]
    },
    {
     "name": "stdout",
     "output_type": "stream",
     "text": [
      "Epoch [11/50] - Training Loss: 3.7766 - Training Accuracy: 89.44%\n",
      "Epoch [11/50] - Validation Loss: 3.8232 - Validation Accuracy: 87.06%\n"
     ]
    },
    {
     "name": "stderr",
     "output_type": "stream",
     "text": [
      " 24%|██▍       | 12/50 [10:48<34:02, 53.76s/it]"
     ]
    },
    {
     "name": "stdout",
     "output_type": "stream",
     "text": [
      "Epoch [12/50] - Training Loss: 3.7552 - Training Accuracy: 91.44%\n",
      "Epoch [12/50] - Validation Loss: 3.8150 - Validation Accuracy: 87.55%\n"
     ]
    },
    {
     "name": "stderr",
     "output_type": "stream",
     "text": [
      " 26%|██▌       | 13/50 [11:42<33:11, 53.81s/it]"
     ]
    },
    {
     "name": "stdout",
     "output_type": "stream",
     "text": [
      "Epoch [13/50] - Training Loss: 3.7484 - Training Accuracy: 91.70%\n",
      "Epoch [13/50] - Validation Loss: 3.8103 - Validation Accuracy: 87.55%\n"
     ]
    },
    {
     "name": "stderr",
     "output_type": "stream",
     "text": [
      " 28%|██▊       | 14/50 [12:36<32:13, 53.71s/it]"
     ]
    },
    {
     "name": "stdout",
     "output_type": "stream",
     "text": [
      "Epoch [14/50] - Training Loss: 3.7443 - Training Accuracy: 92.17%\n",
      "Epoch [14/50] - Validation Loss: 3.8047 - Validation Accuracy: 87.79%\n"
     ]
    },
    {
     "name": "stderr",
     "output_type": "stream",
     "text": [
      " 30%|███       | 15/50 [13:30<31:22, 53.79s/it]"
     ]
    },
    {
     "name": "stdout",
     "output_type": "stream",
     "text": [
      "Epoch [15/50] - Training Loss: 3.7365 - Training Accuracy: 92.66%\n",
      "Epoch [15/50] - Validation Loss: 3.7994 - Validation Accuracy: 88.40%\n"
     ]
    },
    {
     "name": "stderr",
     "output_type": "stream",
     "text": [
      " 32%|███▏      | 16/50 [14:23<30:28, 53.79s/it]"
     ]
    },
    {
     "name": "stdout",
     "output_type": "stream",
     "text": [
      "Epoch [16/50] - Training Loss: 3.7227 - Training Accuracy: 94.14%\n",
      "Epoch [16/50] - Validation Loss: 3.7859 - Validation Accuracy: 90.35%\n"
     ]
    },
    {
     "name": "stderr",
     "output_type": "stream",
     "text": [
      " 34%|███▍      | 17/50 [15:17<29:33, 53.75s/it]"
     ]
    },
    {
     "name": "stdout",
     "output_type": "stream",
     "text": [
      "Epoch [17/50] - Training Loss: 3.7151 - Training Accuracy: 94.50%\n",
      "Epoch [17/50] - Validation Loss: 3.7788 - Validation Accuracy: 90.96%\n"
     ]
    },
    {
     "name": "stderr",
     "output_type": "stream",
     "text": [
      " 36%|███▌      | 18/50 [16:11<28:42, 53.84s/it]"
     ]
    },
    {
     "name": "stdout",
     "output_type": "stream",
     "text": [
      "Epoch [18/50] - Training Loss: 3.7105 - Training Accuracy: 94.87%\n",
      "Epoch [18/50] - Validation Loss: 3.7765 - Validation Accuracy: 90.60%\n"
     ]
    },
    {
     "name": "stderr",
     "output_type": "stream",
     "text": [
      " 38%|███▊      | 19/50 [17:05<27:50, 53.88s/it]"
     ]
    },
    {
     "name": "stdout",
     "output_type": "stream",
     "text": [
      "Epoch [19/50] - Training Loss: 3.7103 - Training Accuracy: 94.84%\n",
      "Epoch [19/50] - Validation Loss: 3.7743 - Validation Accuracy: 90.48%\n"
     ]
    },
    {
     "name": "stderr",
     "output_type": "stream",
     "text": [
      " 40%|████      | 20/50 [17:59<26:55, 53.85s/it]"
     ]
    },
    {
     "name": "stdout",
     "output_type": "stream",
     "text": [
      "Epoch [20/50] - Training Loss: 3.7049 - Training Accuracy: 95.25%\n",
      "Epoch [20/50] - Validation Loss: 3.7671 - Validation Accuracy: 91.58%\n"
     ]
    },
    {
     "name": "stderr",
     "output_type": "stream",
     "text": [
      " 42%|████▏     | 21/50 [18:53<26:05, 53.97s/it]"
     ]
    },
    {
     "name": "stdout",
     "output_type": "stream",
     "text": [
      "Epoch [21/50] - Training Loss: 3.7007 - Training Accuracy: 95.53%\n",
      "Epoch [21/50] - Validation Loss: 3.7658 - Validation Accuracy: 91.33%\n"
     ]
    },
    {
     "name": "stderr",
     "output_type": "stream",
     "text": [
      " 44%|████▍     | 22/50 [19:47<25:12, 54.01s/it]"
     ]
    },
    {
     "name": "stdout",
     "output_type": "stream",
     "text": [
      "Epoch [22/50] - Training Loss: 3.6957 - Training Accuracy: 96.40%\n",
      "Epoch [22/50] - Validation Loss: 3.7575 - Validation Accuracy: 92.31%\n"
     ]
    },
    {
     "name": "stderr",
     "output_type": "stream",
     "text": [
      " 46%|████▌     | 23/50 [20:41<24:17, 53.99s/it]"
     ]
    },
    {
     "name": "stdout",
     "output_type": "stream",
     "text": [
      "Epoch [23/50] - Training Loss: 3.6877 - Training Accuracy: 96.75%\n",
      "Epoch [23/50] - Validation Loss: 3.7552 - Validation Accuracy: 92.19%\n"
     ]
    },
    {
     "name": "stderr",
     "output_type": "stream",
     "text": [
      " 48%|████▊     | 24/50 [21:36<23:27, 54.15s/it]"
     ]
    },
    {
     "name": "stdout",
     "output_type": "stream",
     "text": [
      "Epoch [24/50] - Training Loss: 3.6857 - Training Accuracy: 96.93%\n",
      "Epoch [24/50] - Validation Loss: 3.7529 - Validation Accuracy: 92.06%\n"
     ]
    },
    {
     "name": "stderr",
     "output_type": "stream",
     "text": [
      " 50%|█████     | 25/50 [22:29<22:30, 54.03s/it]"
     ]
    },
    {
     "name": "stdout",
     "output_type": "stream",
     "text": [
      "Epoch [25/50] - Training Loss: 3.6837 - Training Accuracy: 97.10%\n",
      "Epoch [25/50] - Validation Loss: 3.7528 - Validation Accuracy: 92.19%\n"
     ]
    },
    {
     "name": "stderr",
     "output_type": "stream",
     "text": [
      " 52%|█████▏    | 26/50 [23:23<21:34, 53.95s/it]"
     ]
    },
    {
     "name": "stdout",
     "output_type": "stream",
     "text": [
      "Epoch [26/50] - Training Loss: 3.6826 - Training Accuracy: 97.04%\n",
      "Epoch [26/50] - Validation Loss: 3.7509 - Validation Accuracy: 92.43%\n"
     ]
    },
    {
     "name": "stderr",
     "output_type": "stream",
     "text": [
      " 54%|█████▍    | 27/50 [24:16<20:35, 53.73s/it]"
     ]
    },
    {
     "name": "stdout",
     "output_type": "stream",
     "text": [
      "Epoch [27/50] - Training Loss: 3.6801 - Training Accuracy: 97.21%\n",
      "Epoch [27/50] - Validation Loss: 3.7510 - Validation Accuracy: 92.43%\n"
     ]
    },
    {
     "name": "stderr",
     "output_type": "stream",
     "text": [
      " 56%|█████▌    | 28/50 [25:11<19:50, 54.09s/it]"
     ]
    },
    {
     "name": "stdout",
     "output_type": "stream",
     "text": [
      "Epoch [28/50] - Training Loss: 3.6799 - Training Accuracy: 97.22%\n",
      "Epoch [28/50] - Validation Loss: 3.7499 - Validation Accuracy: 92.43%\n"
     ]
    },
    {
     "name": "stderr",
     "output_type": "stream",
     "text": [
      " 58%|█████▊    | 29/50 [26:06<19:00, 54.31s/it]"
     ]
    },
    {
     "name": "stdout",
     "output_type": "stream",
     "text": [
      "Epoch [29/50] - Training Loss: 3.6784 - Training Accuracy: 97.25%\n",
      "Epoch [29/50] - Validation Loss: 3.7471 - Validation Accuracy: 92.43%\n"
     ]
    },
    {
     "name": "stderr",
     "output_type": "stream",
     "text": [
      " 60%|██████    | 30/50 [27:00<18:04, 54.23s/it]"
     ]
    },
    {
     "name": "stdout",
     "output_type": "stream",
     "text": [
      "Epoch [30/50] - Training Loss: 3.6786 - Training Accuracy: 97.25%\n",
      "Epoch [30/50] - Validation Loss: 3.7478 - Validation Accuracy: 92.80%\n"
     ]
    },
    {
     "name": "stderr",
     "output_type": "stream",
     "text": [
      " 62%|██████▏   | 31/50 [27:54<17:08, 54.11s/it]"
     ]
    },
    {
     "name": "stdout",
     "output_type": "stream",
     "text": [
      "Epoch [31/50] - Training Loss: 3.6767 - Training Accuracy: 97.31%\n",
      "Epoch [31/50] - Validation Loss: 3.7442 - Validation Accuracy: 92.92%\n"
     ]
    },
    {
     "name": "stderr",
     "output_type": "stream",
     "text": [
      " 64%|██████▍   | 32/50 [28:48<16:12, 54.02s/it]"
     ]
    },
    {
     "name": "stdout",
     "output_type": "stream",
     "text": [
      "Epoch [32/50] - Training Loss: 3.6740 - Training Accuracy: 97.57%\n",
      "Epoch [32/50] - Validation Loss: 3.7435 - Validation Accuracy: 92.92%\n"
     ]
    },
    {
     "name": "stderr",
     "output_type": "stream",
     "text": [
      " 66%|██████▌   | 33/50 [29:41<15:15, 53.88s/it]"
     ]
    },
    {
     "name": "stdout",
     "output_type": "stream",
     "text": [
      "Epoch [33/50] - Training Loss: 3.6722 - Training Accuracy: 97.66%\n",
      "Epoch [33/50] - Validation Loss: 3.7384 - Validation Accuracy: 93.04%\n"
     ]
    },
    {
     "name": "stderr",
     "output_type": "stream",
     "text": [
      " 68%|██████▊   | 34/50 [30:35<14:19, 53.74s/it]"
     ]
    },
    {
     "name": "stdout",
     "output_type": "stream",
     "text": [
      "Epoch [34/50] - Training Loss: 3.6713 - Training Accuracy: 97.70%\n",
      "Epoch [34/50] - Validation Loss: 3.7391 - Validation Accuracy: 93.16%\n"
     ]
    },
    {
     "name": "stderr",
     "output_type": "stream",
     "text": [
      " 70%|███████   | 35/50 [31:29<13:26, 53.76s/it]"
     ]
    },
    {
     "name": "stdout",
     "output_type": "stream",
     "text": [
      "Epoch [35/50] - Training Loss: 3.6713 - Training Accuracy: 97.71%\n",
      "Epoch [35/50] - Validation Loss: 3.7379 - Validation Accuracy: 92.67%\n"
     ]
    },
    {
     "name": "stderr",
     "output_type": "stream",
     "text": [
      " 72%|███████▏  | 36/50 [32:22<12:32, 53.78s/it]"
     ]
    },
    {
     "name": "stdout",
     "output_type": "stream",
     "text": [
      "Epoch [36/50] - Training Loss: 3.6682 - Training Accuracy: 98.05%\n",
      "Epoch [36/50] - Validation Loss: 3.7347 - Validation Accuracy: 93.41%\n"
     ]
    },
    {
     "name": "stderr",
     "output_type": "stream",
     "text": [
      " 74%|███████▍  | 37/50 [33:16<11:38, 53.69s/it]"
     ]
    },
    {
     "name": "stdout",
     "output_type": "stream",
     "text": [
      "Epoch [37/50] - Training Loss: 3.6652 - Training Accuracy: 98.26%\n",
      "Epoch [37/50] - Validation Loss: 3.7342 - Validation Accuracy: 93.65%\n"
     ]
    },
    {
     "name": "stderr",
     "output_type": "stream",
     "text": [
      " 76%|███████▌  | 38/50 [34:10<10:45, 53.76s/it]"
     ]
    },
    {
     "name": "stdout",
     "output_type": "stream",
     "text": [
      "Epoch [38/50] - Training Loss: 3.6651 - Training Accuracy: 98.26%\n",
      "Epoch [38/50] - Validation Loss: 3.7333 - Validation Accuracy: 93.77%\n"
     ]
    },
    {
     "name": "stderr",
     "output_type": "stream",
     "text": [
      " 78%|███████▊  | 39/50 [35:04<09:51, 53.76s/it]"
     ]
    },
    {
     "name": "stdout",
     "output_type": "stream",
     "text": [
      "Epoch [39/50] - Training Loss: 3.6641 - Training Accuracy: 98.28%\n",
      "Epoch [39/50] - Validation Loss: 3.7349 - Validation Accuracy: 93.28%\n"
     ]
    },
    {
     "name": "stderr",
     "output_type": "stream",
     "text": [
      " 80%|████████  | 40/50 [35:57<08:56, 53.65s/it]"
     ]
    },
    {
     "name": "stdout",
     "output_type": "stream",
     "text": [
      "Epoch [40/50] - Training Loss: 3.6638 - Training Accuracy: 98.29%\n",
      "Epoch [40/50] - Validation Loss: 3.7325 - Validation Accuracy: 93.65%\n"
     ]
    },
    {
     "name": "stderr",
     "output_type": "stream",
     "text": [
      " 82%|████████▏ | 41/50 [36:51<08:03, 53.68s/it]"
     ]
    },
    {
     "name": "stdout",
     "output_type": "stream",
     "text": [
      "Epoch [41/50] - Training Loss: 3.6644 - Training Accuracy: 98.29%\n",
      "Epoch [41/50] - Validation Loss: 3.7308 - Validation Accuracy: 93.41%\n"
     ]
    },
    {
     "name": "stderr",
     "output_type": "stream",
     "text": [
      " 84%|████████▍ | 42/50 [37:44<07:09, 53.70s/it]"
     ]
    },
    {
     "name": "stdout",
     "output_type": "stream",
     "text": [
      "Epoch [42/50] - Training Loss: 3.6646 - Training Accuracy: 98.24%\n",
      "Epoch [42/50] - Validation Loss: 3.7327 - Validation Accuracy: 93.53%\n"
     ]
    },
    {
     "name": "stderr",
     "output_type": "stream",
     "text": [
      " 86%|████████▌ | 43/50 [38:38<06:15, 53.65s/it]"
     ]
    },
    {
     "name": "stdout",
     "output_type": "stream",
     "text": [
      "Epoch [43/50] - Training Loss: 3.6636 - Training Accuracy: 98.28%\n",
      "Epoch [43/50] - Validation Loss: 3.7292 - Validation Accuracy: 93.89%\n"
     ]
    },
    {
     "name": "stderr",
     "output_type": "stream",
     "text": [
      " 88%|████████▊ | 44/50 [39:32<05:22, 53.73s/it]"
     ]
    },
    {
     "name": "stdout",
     "output_type": "stream",
     "text": [
      "Epoch [44/50] - Training Loss: 3.6636 - Training Accuracy: 98.31%\n",
      "Epoch [44/50] - Validation Loss: 3.7290 - Validation Accuracy: 93.77%\n"
     ]
    },
    {
     "name": "stderr",
     "output_type": "stream",
     "text": [
      " 90%|█████████ | 45/50 [40:26<04:28, 53.77s/it]"
     ]
    },
    {
     "name": "stdout",
     "output_type": "stream",
     "text": [
      "Epoch [45/50] - Training Loss: 3.6635 - Training Accuracy: 98.32%\n",
      "Epoch [45/50] - Validation Loss: 3.7302 - Validation Accuracy: 93.77%\n"
     ]
    },
    {
     "name": "stderr",
     "output_type": "stream",
     "text": [
      " 92%|█████████▏| 46/50 [41:20<03:35, 53.76s/it]"
     ]
    },
    {
     "name": "stdout",
     "output_type": "stream",
     "text": [
      "Epoch [46/50] - Training Loss: 3.6632 - Training Accuracy: 98.32%\n",
      "Epoch [46/50] - Validation Loss: 3.7290 - Validation Accuracy: 94.02%\n"
     ]
    },
    {
     "name": "stderr",
     "output_type": "stream",
     "text": [
      " 94%|█████████▍| 47/50 [42:13<02:41, 53.70s/it]"
     ]
    },
    {
     "name": "stdout",
     "output_type": "stream",
     "text": [
      "Epoch [47/50] - Training Loss: 3.6639 - Training Accuracy: 98.32%\n",
      "Epoch [47/50] - Validation Loss: 3.7292 - Validation Accuracy: 93.53%\n"
     ]
    },
    {
     "name": "stderr",
     "output_type": "stream",
     "text": [
      " 96%|█████████▌| 48/50 [43:07<01:47, 53.78s/it]"
     ]
    },
    {
     "name": "stdout",
     "output_type": "stream",
     "text": [
      "Epoch [48/50] - Training Loss: 3.6629 - Training Accuracy: 98.34%\n",
      "Epoch [48/50] - Validation Loss: 3.7304 - Validation Accuracy: 93.65%\n"
     ]
    },
    {
     "name": "stderr",
     "output_type": "stream",
     "text": [
      " 98%|█████████▊| 49/50 [44:01<00:53, 53.81s/it]"
     ]
    },
    {
     "name": "stdout",
     "output_type": "stream",
     "text": [
      "Epoch [49/50] - Training Loss: 3.6625 - Training Accuracy: 98.34%\n",
      "Epoch [49/50] - Validation Loss: 3.7281 - Validation Accuracy: 93.41%\n"
     ]
    },
    {
     "name": "stderr",
     "output_type": "stream",
     "text": [
      "100%|██████████| 50/50 [44:54<00:00, 53.90s/it]"
     ]
    },
    {
     "name": "stdout",
     "output_type": "stream",
     "text": [
      "Epoch [50/50] - Training Loss: 3.6632 - Training Accuracy: 98.29%\n",
      "Epoch [50/50] - Validation Loss: 3.7291 - Validation Accuracy: 93.53%\n"
     ]
    },
    {
     "name": "stderr",
     "output_type": "stream",
     "text": [
      "\n"
     ]
    }
   ],
   "source": [
    "# Now I can train the pretrained Model on train set.\n",
    "# Also I assign some variables to measure the model's performance while training.\n",
    "train_losses = list()\n",
    "train_accuracies = list()\n",
    "val_losses = list()\n",
    "val_accuracies = list()\n",
    "\n",
    "# And here I set the loss function to cross entropy loss since I want to multi-class classification\n",
    "loss_f = nn.CrossEntropyLoss()\n",
    "lr = 2e-3\n",
    "optimizer = optim.Adam(resnet.fc.parameters(), lr = lr) # Use Adam optimizer for faster gradient decent steps\n",
    "epochs = 50\n",
    "\n",
    "# Trainig Loop:\n",
    "for epoch in tqdm(range(epochs)): \n",
    "    \n",
    "    resnet.train() # training mode on\n",
    "\n",
    "    running_loss = 0.0\n",
    "    num_samples = 0\n",
    "    num_correct = 0\n",
    "    for img, label in train_loader:\n",
    "        img, label = img.to(DEVICE), label.to(DEVICE) # move all variable to GPU before feeding to network\n",
    "        optimizer.zero_grad() # do the training loop and update model parameters (FC layer only)\n",
    "        output = resnet(img)\n",
    "        loss = loss_f(output, label)\n",
    "        loss.backward()\n",
    "        optimizer.step()\n",
    "\n",
    "        running_loss += loss.item()\n",
    "        _, predicted = torch.max(output, 1)  # Get the class with the highest probability\n",
    "        _, true_label = torch.max(label, 1)\n",
    "        num_samples += label.size(0)\n",
    "        num_correct += (predicted == true_label).sum().item()\n",
    "        \n",
    "    train_accuracy = 100 * num_correct / num_samples\n",
    "    epoch_loss = running_loss / len(train_loader)\n",
    "    train_losses.append(epoch_loss)\n",
    "    train_accuracies.append(train_accuracy)\n",
    "    \n",
    "    with torch.no_grad():\n",
    "        vr_loss = 0\n",
    "        val_samples = 0\n",
    "        val_corrects = 0\n",
    "        for img, label in val_loader:\n",
    "            img, label = img.to(DEVICE), label.to(DEVICE)\n",
    "            output = resnet(img)\n",
    "            _, predicted = torch.max(output, 1)\n",
    "            _, true_label = torch.max(label, 1)\n",
    "            \n",
    "            val_samples += label.size(0)\n",
    "            val_corrects += (predicted == true_label).sum().item()\n",
    "            vr_loss += loss_f(output, label).item()\n",
    "        val_accuracy = 100 * val_corrects/val_samples\n",
    "        val_loss = vr_loss/len(val_loader)\n",
    "        print(f\"Epoch [{epoch + 1}/{epochs}] - Training Loss: {epoch_loss:.4f} - Training Accuracy: {train_accuracy:.2f}%\")\n",
    "        print(f\"Epoch [{epoch + 1}/{epochs}] - Validation Loss: {val_loss:.4f} - Validation Accuracy: {val_accuracy:.2f}%\")\n",
    "        val_losses.append(val_loss)\n",
    "        val_accuracies.append(val_accuracy)"
   ]
  },
  {
   "cell_type": "code",
   "execution_count": 10,
   "id": "a7fa8042",
   "metadata": {
    "execution": {
     "iopub.execute_input": "2023-10-05T13:23:16.362277Z",
     "iopub.status.busy": "2023-10-05T13:23:16.361662Z",
     "iopub.status.idle": "2023-10-05T13:23:20.705894Z",
     "shell.execute_reply": "2023-10-05T13:23:20.704955Z"
    },
    "papermill": {
     "duration": 4.36802,
     "end_time": "2023-10-05T13:23:20.707898",
     "exception": false,
     "start_time": "2023-10-05T13:23:16.339878",
     "status": "completed"
    },
    "tags": []
   },
   "outputs": [
    {
     "name": "stdout",
     "output_type": "stream",
     "text": [
      "Test Accuracy: 92.43%\n"
     ]
    }
   ],
   "source": [
    "# Now the final step: test the model\n",
    "num_sample = 0\n",
    "num_correct = 0\n",
    "preds = []\n",
    "true_labels = []\n",
    "with torch.no_grad():\n",
    "    for img, label in test_loader:\n",
    "        img, label = img.to(DEVICE), label.to(DEVICE)\n",
    "        output = resnet(img) \n",
    "        _, predicted = torch.max(output, 1)\n",
    "        _, true_label = torch.max(label, 1)\n",
    "        preds += predicted.cpu().numpy().tolist()\n",
    "        true_labels += true_label.cpu().numpy().tolist()\n",
    "        num_sample += label.size(0)  \n",
    "        num_correct += (predicted == true_label).sum().item()\n",
    "    test_accuracy = 100 * num_correct/num_sample\n",
    "    print(f\"Test Accuracy: {test_accuracy:.2f}%\")\n"
   ]
  },
  {
   "cell_type": "code",
   "execution_count": 11,
   "id": "4f391ad5",
   "metadata": {
    "execution": {
     "iopub.execute_input": "2023-10-05T13:23:20.754463Z",
     "iopub.status.busy": "2023-10-05T13:23:20.753904Z",
     "iopub.status.idle": "2023-10-05T13:23:21.391685Z",
     "shell.execute_reply": "2023-10-05T13:23:21.390721Z"
    },
    "papermill": {
     "duration": 0.663791,
     "end_time": "2023-10-05T13:23:21.393605",
     "exception": false,
     "start_time": "2023-10-05T13:23:20.729814",
     "status": "completed"
    },
    "tags": []
   },
   "outputs": [
    {
     "data": {
      "image/png": "[encoded data removed]",
      "text/plain": [
       "<Figure size 1200x400 with 2 Axes>"
      ]
     },
     "metadata": {},
     "output_type": "display_data"
    }
   ],
   "source": [
    "# And visualize the performance\n",
    "# plot train loss by epoch\n",
    "plt.figure(figsize=(12, 4))\n",
    "plt.subplot(1, 2, 1)\n",
    "plt.plot(train_losses, label='Training Loss', color = 'blue')\n",
    "plt.plot(val_losses, label='Validation Loss', color = 'red')\n",
    "plt.xlabel('Epoch')\n",
    "plt.ylabel('Loss')\n",
    "plt.legend()\n",
    "plt.savefig('Loss_plot.png')\n",
    "\n",
    "# plot training and test accuracy curves\n",
    "plt.subplot(1, 2, 2)\n",
    "plt.plot(train_accuracies, label='Training Accuracy', color = 'blue')\n",
    "plt.plot(val_accuracies, label='Validation Accuracy', color = 'red')\n",
    "plt.xlabel('Epoch')\n",
    "plt.ylabel('Accuracy (%)')\n",
    "plt.axhline(y=test_accuracy, color='red', linestyle='--', label='Test Accuracy')\n",
    "plt.legend()\n",
    "plt.savefig('Acc_plot.png')\n",
    "\n",
    "plt.show()"
   ]
  },
  {
   "cell_type": "code",
   "execution_count": 12,
   "id": "cca0de93",
   "metadata": {
    "execution": {
     "iopub.execute_input": "2023-10-05T13:23:21.440347Z",
     "iopub.status.busy": "2023-10-05T13:23:21.440069Z",
     "iopub.status.idle": "2023-10-05T13:23:22.088218Z",
     "shell.execute_reply": "2023-10-05T13:23:22.087331Z"
    },
    "papermill": {
     "duration": 0.673453,
     "end_time": "2023-10-05T13:23:22.090194",
     "exception": false,
     "start_time": "2023-10-05T13:23:21.416741",
     "status": "completed"
    },
    "tags": []
   },
   "outputs": [
    {
     "data": {
      "image/png": "[encoded data removed]",
      "text/plain": [
       "<Figure size 640x480 with 1 Axes>"
      ]
     },
     "metadata": {},
     "output_type": "display_data"
    }
   ],
   "source": [
    "pred_count = Counter(preds)\n",
    "true_count = Counter(true_labels)\n",
    "# And now let's visualize the distribution of frequencies:\n",
    "p_values = pred_count.keys()\n",
    "p_counts = pred_count.values()\n",
    "plt.bar(p_values, p_counts, label = 'Predicted Labels')\n",
    "\n",
    "t_values = list(true_count.keys())\n",
    "t_counts = list(true_count.values())\n",
    "# Create the bar chart\n",
    "plt.bar(t_values, t_counts, alpha=0.25, color='red', label='True Labels')\n",
    "\n",
    "plt.xlabel('Labels')\n",
    "plt.ylabel('Frequency')\n",
    "plt.title('Frequency of Predictions vs True Labels')\n",
    "plt.legend()\n",
    "plt.savefig('pred_vs_true_plot.png')\n",
    "plt.show()"
   ]
  }
 ],
 "metadata": {
  "kernelspec": {
   "display_name": "Python 3",
   "language": "python",
   "name": "python3"
  },
  "language_info": {
   "codemirror_mode": {
    "name": "ipython",
    "version": 3
   },
   "file_extension": ".py",
   "mimetype": "text/x-python",
   "name": "python",
   "nbconvert_exporter": "python",
   "pygments_lexer": "ipython3",
   "version": "3.10.12"
  },
  "papermill": {
   "default_parameters": {},
   "duration": 2779.747957,
   "end_time": "2023-10-05T13:23:26.798523",
   "environment_variables": {},
   "exception": null,
   "input_path": "__notebook__.ipynb",
   "output_path": "__notebook__.ipynb",
   "parameters": {},
   "start_time": "2023-10-05T12:37:07.050566",
   "version": "2.4.0"
  }
 },
 "nbformat": 4,
 "nbformat_minor": 5
}
