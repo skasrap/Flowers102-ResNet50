{
 "cells": [
  {
   "cell_type": "markdown",
   "id": "24fb3deb",
   "metadata": {
    "papermill": {
     "duration": 0.003125,
     "end_time": "2023-10-04T21:52:48.519436",
     "exception": false,
     "start_time": "2023-10-04T21:52:48.516311",
     "status": "completed"
    },
    "tags": []
   },
   "source": [
    "**Here I will try to implement ResNet 50 on the 102 Flowers dataset. I begin with loading the data. Then  I train and evaluate the performance of ResNet 50 on the loaded data.**"
   ]
  },
  {
   "cell_type": "code",
   "execution_count": 1,
   "id": "5003a659",
   "metadata": {
    "execution": {
     "iopub.execute_input": "2023-10-04T21:52:48.526664Z",
     "iopub.status.busy": "2023-10-04T21:52:48.526320Z",
     "iopub.status.idle": "2023-10-04T21:53:15.855699Z",
     "shell.execute_reply": "2023-10-04T21:53:15.854454Z"
    },
    "papermill": {
     "duration": 27.335545,
     "end_time": "2023-10-04T21:53:15.857816",
     "exception": false,
     "start_time": "2023-10-04T21:52:48.522271",
     "status": "completed"
    },
    "tags": []
   },
   "outputs": [
    {
     "name": "stdout",
     "output_type": "stream",
     "text": [
      "--2023-10-04 21:52:49--  http://www.robots.ox.ac.uk/~vgg/data/flowers/102/102flowers.tgz\r\n",
      "Resolving www.robots.ox.ac.uk (www.robots.ox.ac.uk)... 129.67.94.2\r\n",
      "Connecting to www.robots.ox.ac.uk (www.robots.ox.ac.uk)|129.67.94.2|:80... connected.\r\n",
      "HTTP request sent, awaiting response... 301 Moved Permanently\r\n",
      "Location: https://www.robots.ox.ac.uk/~vgg/data/flowers/102/102flowers.tgz [following]\r\n",
      "--2023-10-04 21:52:49--  https://www.robots.ox.ac.uk/~vgg/data/flowers/102/102flowers.tgz\r\n",
      "Connecting to www.robots.ox.ac.uk (www.robots.ox.ac.uk)|129.67.94.2|:443... connected.\r\n",
      "HTTP request sent, awaiting response... 301 Moved Permanently\r\n",
      "Location: https://thor.robots.ox.ac.uk/datasets/flowers-102/102flowers.tgz [following]\r\n",
      "--2023-10-04 21:52:50--  https://thor.robots.ox.ac.uk/datasets/flowers-102/102flowers.tgz\r\n",
      "Resolving thor.robots.ox.ac.uk (thor.robots.ox.ac.uk)... 129.67.95.98\r\n",
      "Connecting to thor.robots.ox.ac.uk (thor.robots.ox.ac.uk)|129.67.95.98|:443... connected.\r\n",
      "HTTP request sent, awaiting response... 200 OK\r\n",
      "Length: 344862509 (329M) [application/octet-stream]\r\n",
      "Saving to: ‘102flowers.tgz’\r\n",
      "\r\n",
      "102flowers.tgz      100%[===================>] 328.89M  21.1MB/s    in 17s     \r\n",
      "\r\n",
      "2023-10-04 21:53:08 (19.2 MB/s) - ‘102flowers.tgz’ saved [344862509/344862509]\r\n",
      "\r\n",
      "URL transformed to HTTPS due to an HSTS policy\r\n",
      "--2023-10-04 21:53:14--  https://www.robots.ox.ac.uk/~vgg/data/flowers/102/imagelabels.mat\r\n",
      "Resolving www.robots.ox.ac.uk (www.robots.ox.ac.uk)... 129.67.94.2\r\n",
      "Connecting to www.robots.ox.ac.uk (www.robots.ox.ac.uk)|129.67.94.2|:443... connected.\r\n",
      "HTTP request sent, awaiting response... 301 Moved Permanently\r\n",
      "Location: https://thor.robots.ox.ac.uk/datasets/flowers-102/imagelabels.mat [following]\r\n",
      "--2023-10-04 21:53:15--  https://thor.robots.ox.ac.uk/datasets/flowers-102/imagelabels.mat\r\n",
      "Resolving thor.robots.ox.ac.uk (thor.robots.ox.ac.uk)... 129.67.95.98\r\n",
      "Connecting to thor.robots.ox.ac.uk (thor.robots.ox.ac.uk)|129.67.95.98|:443... connected.\r\n",
      "HTTP request sent, awaiting response... 200 OK\r\n",
      "Length: 502 [application/octet-stream]\r\n",
      "Saving to: ‘imagelabels.mat’\r\n",
      "\r\n",
      "imagelabels.mat     100%[===================>]     502  --.-KB/s    in 0s      \r\n",
      "\r\n",
      "2023-10-04 21:53:15 (164 MB/s) - ‘imagelabels.mat’ saved [502/502]\r\n",
      "\r\n"
     ]
    }
   ],
   "source": [
    "# Downloading the main data files\n",
    "!wget http://www.robots.ox.ac.uk/~vgg/data/flowers/102/102flowers.tgz\n",
    "!tar -xzf 102flowers.tgz\n",
    "!rm 102flowers.tgz\n",
    "!wget http://www.robots.ox.ac.uk/~vgg/data/flowers/102/imagelabels.mat"
   ]
  },
  {
   "cell_type": "code",
   "execution_count": 2,
   "id": "c0f726c5",
   "metadata": {
    "execution": {
     "iopub.execute_input": "2023-10-04T21:53:15.872424Z",
     "iopub.status.busy": "2023-10-04T21:53:15.872123Z",
     "iopub.status.idle": "2023-10-04T21:53:28.039168Z",
     "shell.execute_reply": "2023-10-04T21:53:28.037617Z"
    },
    "papermill": {
     "duration": 12.176549,
     "end_time": "2023-10-04T21:53:28.041168",
     "exception": false,
     "start_time": "2023-10-04T21:53:15.864619",
     "status": "completed"
    },
    "tags": []
   },
   "outputs": [
    {
     "name": "stderr",
     "output_type": "stream",
     "text": [
      "/opt/conda/lib/python3.10/site-packages/scipy/__init__.py:146: UserWarning: A NumPy version >=1.16.5 and <1.23.0 is required for this version of SciPy (detected version 1.23.5\n",
      "  warnings.warn(f\"A NumPy version >={np_minversion} and <{np_maxversion}\"\n"
     ]
    },
    {
     "name": "stdout",
     "output_type": "stream",
     "text": [
      "Import Completed\n",
      "GPU yay!\n"
     ]
    }
   ],
   "source": [
    "# Importing Needed Libraries\n",
    "import tarfile as tf\n",
    "import os\n",
    "import numpy as np\n",
    "import torch\n",
    "from torchvision import datasets, models, transforms\n",
    "import torch.nn as nn\n",
    "import torch.optim as optim\n",
    "from torch.utils.data import Dataset, DataLoader\n",
    "from PIL import Image\n",
    "from scipy.io import loadmat\n",
    "from tqdm import tqdm\n",
    "from matplotlib import pyplot as plt\n",
    "from sklearn.model_selection import train_test_split as tts\n",
    "from keras.utils import to_categorical\n",
    "from collections import Counter\n",
    "\n",
    "print ('Import Completed')\n",
    "\n",
    "def set_device(): # Function to help with determining the accelerator\n",
    "  device = 'cuda' if torch.cuda.is_available() else 'cpu'\n",
    "  if device == 'cuda':\n",
    "    print('GPU yay!')\n",
    "  elif device == 'cpu':\n",
    "    print('CPU :|')\n",
    "  return device\n",
    "DEVICE = set_device()"
   ]
  },
  {
   "cell_type": "code",
   "execution_count": 3,
   "id": "fcb624d5",
   "metadata": {
    "execution": {
     "iopub.execute_input": "2023-10-04T21:53:28.056205Z",
     "iopub.status.busy": "2023-10-04T21:53:28.055711Z",
     "iopub.status.idle": "2023-10-04T21:53:52.808451Z",
     "shell.execute_reply": "2023-10-04T21:53:52.807382Z"
    },
    "papermill": {
     "duration": 24.763006,
     "end_time": "2023-10-04T21:53:52.811278",
     "exception": false,
     "start_time": "2023-10-04T21:53:28.048272",
     "status": "completed"
    },
    "tags": []
   },
   "outputs": [
    {
     "name": "stderr",
     "output_type": "stream",
     "text": [
      "100%|██████████| 8189/8189 [00:24<00:00, 331.11it/s]"
     ]
    },
    {
     "name": "stdout",
     "output_type": "stream",
     "text": [
      "Number of total images is: 8189\n"
     ]
    },
    {
     "name": "stderr",
     "output_type": "stream",
     "text": [
      "\n"
     ]
    }
   ],
   "source": [
    "# Load the images from the folder into a python list, as numpy arrays\n",
    "image_folder = \"/kaggle/working/jpg\"\n",
    "all_imgs = list()\n",
    "all_labels = []\n",
    "for img_name in tqdm(os.listdir(image_folder)):\n",
    "    image_path = os.path.join(image_folder, img_name)\n",
    "    img = Image.open(image_path)\n",
    "    img_array = np.array(img)\n",
    "    all_imgs.append(img_array)\n",
    "    all_labels.append(int(img_name[6:11])-1)\n",
    "    # see whether there are any images with different shapes or dimensions in the dataset\n",
    "    if len(img_array.shape) != 3 or img_array.shape[2] != 3:\n",
    "        print('Differing dimension/shape detected!')\n",
    "\n",
    "print(f\"Number of total images is: {len(all_imgs)}\")"
   ]
  },
  {
   "cell_type": "code",
   "execution_count": 4,
   "id": "94723491",
   "metadata": {
    "execution": {
     "iopub.execute_input": "2023-10-04T21:53:52.883687Z",
     "iopub.status.busy": "2023-10-04T21:53:52.883319Z",
     "iopub.status.idle": "2023-10-04T21:53:52.922484Z",
     "shell.execute_reply": "2023-10-04T21:53:52.921335Z"
    },
    "papermill": {
     "duration": 0.072876,
     "end_time": "2023-10-04T21:53:52.924348",
     "exception": false,
     "start_time": "2023-10-04T21:53:52.851472",
     "status": "completed"
    },
    "tags": []
   },
   "outputs": [
    {
     "name": "stdout",
     "output_type": "stream",
     "text": [
      "dict_keys(['__header__', '__version__', '__globals__', 'labels'])\n",
      "Number of total labels is: 8189\n",
      "Range of labels: 0 - 101\n",
      "Number of classes: 102\n",
      "Most repeated label is 51: 258 times\n",
      "Least repeated label is 7: 40 times\n"
     ]
    }
   ],
   "source": [
    "# Load the Labels as Mat objects and explore them\n",
    "img_labels = loadmat(\"imagelabels.mat\")\n",
    "print(img_labels.keys())\n",
    "img_labels = img_labels['labels'][0]\n",
    "print(f\"Number of total labels is: {len(img_labels)}\")\n",
    "\n",
    "# convert the indices in all_labels list to the actual label of their corresponding image\n",
    "all_labels = [img_labels[i] - 1 for i in all_labels] # Since the to_categorical function expects values to start from 0,\n",
    "print(f\"Range of labels: {min(all_labels)} - {max(all_labels)}\") # I subtract 1 from all label values.\n",
    "\n",
    "# convert numbers to\n",
    "all_labels = to_categorical(all_labels, num_classes = 102, dtype = float)\n",
    "\n",
    "print(f\"Number of classes: {all_labels.shape[1]}\")\n",
    "\n",
    "# To make sure there are enough examples for each of the labels, Let's check the min and max occurences.\n",
    "label_counts = Counter(img_labels)\n",
    "print(f\"Most repeated label is {label_counts.most_common()[0][0]}: {label_counts.most_common()[0][1]} times\")\n",
    "print(f\"Least repeated label is {label_counts.most_common()[-1][0]}: {label_counts.most_common()[-1][1]} times\")"
   ]
  },
  {
   "cell_type": "code",
   "execution_count": 5,
   "id": "f6206d7c",
   "metadata": {
    "execution": {
     "iopub.execute_input": "2023-10-04T21:53:52.958533Z",
     "iopub.status.busy": "2023-10-04T21:53:52.958259Z",
     "iopub.status.idle": "2023-10-04T21:53:53.667930Z",
     "shell.execute_reply": "2023-10-04T21:53:53.667036Z"
    },
    "papermill": {
     "duration": 0.729435,
     "end_time": "2023-10-04T21:53:53.669866",
     "exception": false,
     "start_time": "2023-10-04T21:53:52.940431",
     "status": "completed"
    },
    "tags": []
   },
   "outputs": [
    {
     "data": {
      "image/png": "[encoded data removed]",
      "text/plain": [
       "<Figure size 640x480 with 1 Axes>"
      ]
     },
     "metadata": {},
     "output_type": "display_data"
    }
   ],
   "source": [
    "# And now let's visualize the distribution of frequencies:\n",
    "values = label_counts.keys()\n",
    "counts = label_counts.values()\n",
    "plt.bar(values, counts)\n",
    "# Generate a uniform distribution to visually compare with our data\n",
    "num_samples = len(img_labels)\n",
    "min_value = min(img_labels)\n",
    "max_value = max(img_labels)\n",
    "uniform_data = np.random.randint(min_value, max_value + 1, num_samples) # create a uniform distribution within the same range\n",
    "\n",
    "# Count the occurrences of each value in the uniform distribution\n",
    "uniform_value_counts = Counter(uniform_data)\n",
    "\n",
    "# Extract values and counts for plotting\n",
    "uniform_values = list(uniform_value_counts.keys())\n",
    "uniform_counts = list(uniform_value_counts.values())\n",
    "# Create the bar chart\n",
    "plt.bar(uniform_values, uniform_counts, alpha=0.25, color='red', label='Uniform Distribution')\n",
    "\n",
    "plt.xlabel('Labels')\n",
    "plt.ylabel('Frequency')\n",
    "plt.title('Frequency Distribution of Flowers')\n",
    "plt.show()"
   ]
  },
  {
   "cell_type": "code",
   "execution_count": 6,
   "id": "36eee378",
   "metadata": {
    "execution": {
     "iopub.execute_input": "2023-10-04T21:53:53.710239Z",
     "iopub.status.busy": "2023-10-04T21:53:53.709472Z",
     "iopub.status.idle": "2023-10-04T21:53:53.727465Z",
     "shell.execute_reply": "2023-10-04T21:53:53.726621Z"
    },
    "papermill": {
     "duration": 0.042611,
     "end_time": "2023-10-04T21:53:53.729213",
     "exception": false,
     "start_time": "2023-10-04T21:53:53.686602",
     "status": "completed"
    },
    "tags": []
   },
   "outputs": [],
   "source": [
    "# Here I split the data into train, validation, and test sets.\n",
    "trainx, testx, trainy, testy = tts(all_imgs, all_labels, test_size = 0.2, random_state = 7)\n",
    "valx, testx, valy, testy = tts(testx, testy, test_size = 0.5, random_state = 7)\n",
    "# Create datasets corresponding to train, valid, and test data, to load them later on via dataloaders to the neural network.\n",
    "class data_set(Dataset):\n",
    "    def __init__(self, img, label, transform = None):\n",
    "        self.img = img\n",
    "        self.label = label\n",
    "        self.transform = transform\n",
    "    def __getitem__(self, idx):\n",
    "        img = self.img[idx]\n",
    "        label = self.label[idx]\n",
    "        if self.transform:\n",
    "            img = self.transform(img)\n",
    "        return img, label\n",
    "    def __len__(self):\n",
    "        return len(self.label)\n",
    "    \n",
    "transform = transforms.Compose([\n",
    "    transforms.ToTensor(),\n",
    "    transforms.Resize((112, 112), interpolation=Image.BILINEAR, antialias = None)\n",
    "])\n",
    "\n",
    "batch_size = 128 # This batch size seems to work well with my resources!\n",
    "train_set = data_set(trainx, trainy, transform = transform)\n",
    "val_set = data_set(valx, valy, transform = transform)\n",
    "test_set = data_set(testx, testy, transform = transform)\n",
    "\n",
    "train_loader = DataLoader(train_set, batch_size, shuffle = True)\n",
    "val_loader = DataLoader(val_set, batch_size, shuffle = False)\n",
    "test_loader = DataLoader(test_set, batch_size, shuffle = False)"
   ]
  },
  {
   "cell_type": "code",
   "execution_count": 7,
   "id": "9947c055",
   "metadata": {
    "execution": {
     "iopub.execute_input": "2023-10-04T21:53:53.768617Z",
     "iopub.status.busy": "2023-10-04T21:53:53.768326Z",
     "iopub.status.idle": "2023-10-04T21:53:59.813710Z",
     "shell.execute_reply": "2023-10-04T21:53:59.812715Z"
    },
    "papermill": {
     "duration": 6.069312,
     "end_time": "2023-10-04T21:53:59.815513",
     "exception": false,
     "start_time": "2023-10-04T21:53:53.746201",
     "status": "completed"
    },
    "tags": []
   },
   "outputs": [
    {
     "name": "stderr",
     "output_type": "stream",
     "text": [
      "Downloading: \"https://download.pytorch.org/models/resnet50-11ad3fa6.pth\" to /root/.cache/torch/hub/checkpoints/resnet50-11ad3fa6.pth\n",
      "100%|██████████| 97.8M/97.8M [00:00<00:00, 212MB/s]\n"
     ]
    },
    {
     "name": "stdout",
     "output_type": "stream",
     "text": [
      "Resnet 50 Loaded!\n"
     ]
    }
   ],
   "source": [
    "# Now Let's load the ResNet 50 and intiialize its hyperparamteres.\n",
    "\n",
    "resnet = models.resnet50(weights=models.ResNet50_Weights.DEFAULT) # set the model to be loaded as pretrained\n",
    "for param in resnet.parameters(): # I freeze the weights to only train the classifier layer (here it is frozen),\n",
    "    param.requires_grad = False     # while keeping the model's feature extraction capability\n",
    "\n",
    "\n",
    "# And next I modify the final later to output the same number of categories in the dataset.\n",
    "resnet.fc = nn.Sequential(\n",
    "            nn.Linear(resnet.fc.in_features, 102),\n",
    "            nn.Softmax(dim = 1)  # Add a softmax activation to produce class probabilities.\n",
    "            )\n",
    "\n",
    "resnet.to(DEVICE) # Hopefully Cuda!\n",
    "print('Resnet 50 Loaded!')\n",
    "\n",
    "# And here I set the loss function to cross entropy loss since I want to multi-class classification\n",
    "loss_f = nn.CrossEntropyLoss()\n",
    "epochs = 25"
   ]
  },
  {
   "cell_type": "code",
   "execution_count": 8,
   "id": "bd114b1b",
   "metadata": {
    "execution": {
     "iopub.execute_input": "2023-10-04T21:53:59.851278Z",
     "iopub.status.busy": "2023-10-04T21:53:59.851001Z",
     "iopub.status.idle": "2023-10-04T22:03:51.902134Z",
     "shell.execute_reply": "2023-10-04T22:03:51.900772Z"
    },
    "papermill": {
     "duration": 592.07132,
     "end_time": "2023-10-04T22:03:51.904394",
     "exception": false,
     "start_time": "2023-10-04T21:53:59.833074",
     "status": "completed"
    },
    "tags": []
   },
   "outputs": [
    {
     "name": "stderr",
     "output_type": "stream",
     "text": [
      "  4%|▍         | 1/25 [00:28<11:25, 28.56s/it]"
     ]
    },
    {
     "name": "stdout",
     "output_type": "stream",
     "text": [
      "Epoch [1/25] - Training Loss: 4.4962 - Training Accuracy: 23.46%\n",
      "Epoch [1/25] - Validation Loss: 4.3516 - Validation Accuracy: 43.47%\n"
     ]
    },
    {
     "name": "stderr",
     "output_type": "stream",
     "text": [
      "  8%|▊         | 2/25 [00:52<09:51, 25.71s/it]"
     ]
    },
    {
     "name": "stdout",
     "output_type": "stream",
     "text": [
      "Epoch [2/25] - Training Loss: 4.2095 - Training Accuracy: 55.87%\n",
      "Epoch [2/25] - Validation Loss: 4.1737 - Validation Accuracy: 61.66%\n"
     ]
    },
    {
     "name": "stderr",
     "output_type": "stream",
     "text": [
      " 12%|█▏        | 3/25 [01:15<09:03, 24.71s/it]"
     ]
    },
    {
     "name": "stdout",
     "output_type": "stream",
     "text": [
      "Epoch [3/25] - Training Loss: 4.0431 - Training Accuracy: 70.75%\n",
      "Epoch [3/25] - Validation Loss: 4.0907 - Validation Accuracy: 67.03%\n"
     ]
    },
    {
     "name": "stderr",
     "output_type": "stream",
     "text": [
      " 16%|█▌        | 4/25 [01:38<08:26, 24.11s/it]"
     ]
    },
    {
     "name": "stdout",
     "output_type": "stream",
     "text": [
      "Epoch [4/25] - Training Loss: 3.9420 - Training Accuracy: 78.61%\n",
      "Epoch [4/25] - Validation Loss: 4.0423 - Validation Accuracy: 71.55%\n"
     ]
    },
    {
     "name": "stderr",
     "output_type": "stream",
     "text": [
      " 20%|██        | 5/25 [02:02<07:58, 23.93s/it]"
     ]
    },
    {
     "name": "stdout",
     "output_type": "stream",
     "text": [
      "Epoch [5/25] - Training Loss: 3.8798 - Training Accuracy: 83.15%\n",
      "Epoch [5/25] - Validation Loss: 3.9970 - Validation Accuracy: 73.26%\n"
     ]
    },
    {
     "name": "stderr",
     "output_type": "stream",
     "text": [
      " 24%|██▍       | 6/25 [02:25<07:30, 23.70s/it]"
     ]
    },
    {
     "name": "stdout",
     "output_type": "stream",
     "text": [
      "Epoch [6/25] - Training Loss: 3.8327 - Training Accuracy: 86.05%\n",
      "Epoch [6/25] - Validation Loss: 3.9740 - Validation Accuracy: 74.36%\n"
     ]
    },
    {
     "name": "stderr",
     "output_type": "stream",
     "text": [
      " 28%|██▊       | 7/25 [02:49<07:05, 23.66s/it]"
     ]
    },
    {
     "name": "stdout",
     "output_type": "stream",
     "text": [
      "Epoch [7/25] - Training Loss: 3.8047 - Training Accuracy: 88.23%\n",
      "Epoch [7/25] - Validation Loss: 3.9586 - Validation Accuracy: 75.34%\n"
     ]
    },
    {
     "name": "stderr",
     "output_type": "stream",
     "text": [
      " 32%|███▏      | 8/25 [03:12<06:37, 23.41s/it]"
     ]
    },
    {
     "name": "stdout",
     "output_type": "stream",
     "text": [
      "Epoch [8/25] - Training Loss: 3.7759 - Training Accuracy: 89.86%\n",
      "Epoch [8/25] - Validation Loss: 3.9391 - Validation Accuracy: 76.19%\n"
     ]
    },
    {
     "name": "stderr",
     "output_type": "stream",
     "text": [
      " 36%|███▌      | 9/25 [03:35<06:14, 23.44s/it]"
     ]
    },
    {
     "name": "stdout",
     "output_type": "stream",
     "text": [
      "Epoch [9/25] - Training Loss: 3.7501 - Training Accuracy: 92.20%\n",
      "Epoch [9/25] - Validation Loss: 3.9267 - Validation Accuracy: 76.92%\n"
     ]
    },
    {
     "name": "stderr",
     "output_type": "stream",
     "text": [
      " 40%|████      | 10/25 [03:59<05:52, 23.49s/it]"
     ]
    },
    {
     "name": "stdout",
     "output_type": "stream",
     "text": [
      "Epoch [10/25] - Training Loss: 3.7295 - Training Accuracy: 93.50%\n",
      "Epoch [10/25] - Validation Loss: 3.9164 - Validation Accuracy: 78.27%\n"
     ]
    },
    {
     "name": "stderr",
     "output_type": "stream",
     "text": [
      " 44%|████▍     | 11/25 [04:23<05:29, 23.53s/it]"
     ]
    },
    {
     "name": "stdout",
     "output_type": "stream",
     "text": [
      "Epoch [11/25] - Training Loss: 3.7181 - Training Accuracy: 94.41%\n",
      "Epoch [11/25] - Validation Loss: 3.9080 - Validation Accuracy: 77.78%\n"
     ]
    },
    {
     "name": "stderr",
     "output_type": "stream",
     "text": [
      " 48%|████▊     | 12/25 [04:46<05:04, 23.42s/it]"
     ]
    },
    {
     "name": "stdout",
     "output_type": "stream",
     "text": [
      "Epoch [12/25] - Training Loss: 3.7114 - Training Accuracy: 95.02%\n",
      "Epoch [12/25] - Validation Loss: 3.9003 - Validation Accuracy: 78.63%\n"
     ]
    },
    {
     "name": "stderr",
     "output_type": "stream",
     "text": [
      " 52%|█████▏    | 13/25 [05:09<04:40, 23.40s/it]"
     ]
    },
    {
     "name": "stdout",
     "output_type": "stream",
     "text": [
      "Epoch [13/25] - Training Loss: 3.6998 - Training Accuracy: 95.51%\n",
      "Epoch [13/25] - Validation Loss: 3.8952 - Validation Accuracy: 78.51%\n"
     ]
    },
    {
     "name": "stderr",
     "output_type": "stream",
     "text": [
      " 56%|█████▌    | 14/25 [05:32<04:17, 23.39s/it]"
     ]
    },
    {
     "name": "stdout",
     "output_type": "stream",
     "text": [
      "Epoch [14/25] - Training Loss: 3.6982 - Training Accuracy: 95.85%\n",
      "Epoch [14/25] - Validation Loss: 3.8915 - Validation Accuracy: 79.24%\n"
     ]
    },
    {
     "name": "stderr",
     "output_type": "stream",
     "text": [
      " 60%|██████    | 15/25 [05:56<03:55, 23.53s/it]"
     ]
    },
    {
     "name": "stdout",
     "output_type": "stream",
     "text": [
      "Epoch [15/25] - Training Loss: 3.6882 - Training Accuracy: 96.50%\n",
      "Epoch [15/25] - Validation Loss: 3.8857 - Validation Accuracy: 79.00%\n"
     ]
    },
    {
     "name": "stderr",
     "output_type": "stream",
     "text": [
      " 64%|██████▍   | 16/25 [06:19<03:30, 23.37s/it]"
     ]
    },
    {
     "name": "stdout",
     "output_type": "stream",
     "text": [
      "Epoch [16/25] - Training Loss: 3.6799 - Training Accuracy: 97.10%\n",
      "Epoch [16/25] - Validation Loss: 3.8832 - Validation Accuracy: 79.37%\n"
     ]
    },
    {
     "name": "stderr",
     "output_type": "stream",
     "text": [
      " 68%|██████▊   | 17/25 [06:43<03:07, 23.50s/it]"
     ]
    },
    {
     "name": "stdout",
     "output_type": "stream",
     "text": [
      "Epoch [17/25] - Training Loss: 3.6768 - Training Accuracy: 97.40%\n",
      "Epoch [17/25] - Validation Loss: 3.8771 - Validation Accuracy: 80.46%\n"
     ]
    },
    {
     "name": "stderr",
     "output_type": "stream",
     "text": [
      " 72%|███████▏  | 18/25 [07:07<02:44, 23.56s/it]"
     ]
    },
    {
     "name": "stdout",
     "output_type": "stream",
     "text": [
      "Epoch [18/25] - Training Loss: 3.6727 - Training Accuracy: 97.65%\n",
      "Epoch [18/25] - Validation Loss: 3.8752 - Validation Accuracy: 80.46%\n"
     ]
    },
    {
     "name": "stderr",
     "output_type": "stream",
     "text": [
      " 76%|███████▌  | 19/25 [07:30<02:20, 23.42s/it]"
     ]
    },
    {
     "name": "stdout",
     "output_type": "stream",
     "text": [
      "Epoch [19/25] - Training Loss: 3.6693 - Training Accuracy: 98.02%\n",
      "Epoch [19/25] - Validation Loss: 3.8717 - Validation Accuracy: 79.98%\n"
     ]
    },
    {
     "name": "stderr",
     "output_type": "stream",
     "text": [
      " 80%|████████  | 20/25 [07:53<01:57, 23.48s/it]"
     ]
    },
    {
     "name": "stdout",
     "output_type": "stream",
     "text": [
      "Epoch [20/25] - Training Loss: 3.6651 - Training Accuracy: 98.21%\n",
      "Epoch [20/25] - Validation Loss: 3.8687 - Validation Accuracy: 80.71%\n"
     ]
    },
    {
     "name": "stderr",
     "output_type": "stream",
     "text": [
      " 84%|████████▍ | 21/25 [08:17<01:34, 23.52s/it]"
     ]
    },
    {
     "name": "stdout",
     "output_type": "stream",
     "text": [
      "Epoch [21/25] - Training Loss: 3.6636 - Training Accuracy: 98.44%\n",
      "Epoch [21/25] - Validation Loss: 3.8636 - Validation Accuracy: 79.98%\n"
     ]
    },
    {
     "name": "stderr",
     "output_type": "stream",
     "text": [
      " 88%|████████▊ | 22/25 [08:41<01:10, 23.65s/it]"
     ]
    },
    {
     "name": "stdout",
     "output_type": "stream",
     "text": [
      "Epoch [22/25] - Training Loss: 3.6633 - Training Accuracy: 98.49%\n",
      "Epoch [22/25] - Validation Loss: 3.8602 - Validation Accuracy: 80.71%\n"
     ]
    },
    {
     "name": "stderr",
     "output_type": "stream",
     "text": [
      " 92%|█████████▏| 23/25 [09:04<00:47, 23.54s/it]"
     ]
    },
    {
     "name": "stdout",
     "output_type": "stream",
     "text": [
      "Epoch [23/25] - Training Loss: 3.6593 - Training Accuracy: 98.70%\n",
      "Epoch [23/25] - Validation Loss: 3.8644 - Validation Accuracy: 80.34%\n"
     ]
    },
    {
     "name": "stderr",
     "output_type": "stream",
     "text": [
      " 96%|█████████▌| 24/25 [09:28<00:23, 23.56s/it]"
     ]
    },
    {
     "name": "stdout",
     "output_type": "stream",
     "text": [
      "Epoch [24/25] - Training Loss: 3.6584 - Training Accuracy: 98.78%\n",
      "Epoch [24/25] - Validation Loss: 3.8596 - Validation Accuracy: 80.46%\n"
     ]
    },
    {
     "name": "stderr",
     "output_type": "stream",
     "text": [
      "100%|██████████| 25/25 [09:52<00:00, 23.68s/it]"
     ]
    },
    {
     "name": "stdout",
     "output_type": "stream",
     "text": [
      "Epoch [25/25] - Training Loss: 3.6559 - Training Accuracy: 98.84%\n",
      "Epoch [25/25] - Validation Loss: 3.8564 - Validation Accuracy: 80.59%\n"
     ]
    },
    {
     "name": "stderr",
     "output_type": "stream",
     "text": [
      "\n"
     ]
    }
   ],
   "source": [
    "# Now I can train the pretrained Model on train set.\n",
    "# Also I assign some variables to measure the model's performance while training.\n",
    "train_losses = list()\n",
    "train_accuracies = list()\n",
    "val_losses = list()\n",
    "val_accuracies = list()\n",
    "\n",
    "for epoch in tqdm(range(epochs)): \n",
    "    lr = 2e-3 * 0.99 ** (epoch-1) # use learning rate decay\n",
    "    optimizer = optim.Adam(resnet.parameters(), lr = lr) # Use Adam optimizer for faster gradient decent steps\n",
    "    resnet.train() # training mode on\n",
    "\n",
    "    running_loss = 0.0\n",
    "    num_samples = 0\n",
    "    num_correct = 0\n",
    "    for img, label in train_loader:\n",
    "        img, label = img.to(DEVICE), label.to(DEVICE) # move all variable to GPU before feeding to network\n",
    "        optimizer.zero_grad() # do the training loop and update model parameters (FC layer only)\n",
    "        output = resnet(img)\n",
    "        loss = loss_f(output, label)\n",
    "        loss.backward()\n",
    "        optimizer.step()\n",
    "\n",
    "        running_loss += loss.item()\n",
    "        _, predicted = torch.max(output, 1)  # Get the class with the highest probability\n",
    "        _, true_label = torch.max(label, 1)\n",
    "        num_samples += label.size(0)\n",
    "        num_correct += (predicted == true_label).sum().item()\n",
    "        \n",
    "    train_accuracy = 100 * num_correct / num_samples\n",
    "    epoch_loss = running_loss / len(train_loader)\n",
    "    train_losses.append(epoch_loss)\n",
    "    train_accuracies.append(train_accuracy)\n",
    "    \n",
    "    with torch.no_grad():\n",
    "        vr_loss = 0\n",
    "        val_samples = 0\n",
    "        val_corrects = 0\n",
    "        for img, label in val_loader:\n",
    "            img, label = img.to(DEVICE), label.to(DEVICE)\n",
    "            output = resnet(img)\n",
    "            _, predicted = torch.max(output, 1)\n",
    "            _, true_label = torch.max(label, 1)\n",
    "            \n",
    "            val_samples += label.size(0)\n",
    "            val_corrects += (predicted == true_label).sum().item()\n",
    "            vr_loss += loss_f(output, label).item()\n",
    "        val_accuracy = 100 * val_corrects/val_samples\n",
    "        val_loss = vr_loss/len(val_loader)\n",
    "        print(f\"Epoch [{epoch + 1}/{epochs}] - Training Loss: {epoch_loss:.4f} - Training Accuracy: {train_accuracy:.2f}%\")\n",
    "        print(f\"Epoch [{epoch + 1}/{epochs}] - Validation Loss: {val_loss:.4f} - Validation Accuracy: {val_accuracy:.2f}%\")\n",
    "        val_losses.append(val_loss)\n",
    "        val_accuracies.append(val_accuracy)"
   ]
  },
  {
   "cell_type": "code",
   "execution_count": 9,
   "id": "71b1eb44",
   "metadata": {
    "execution": {
     "iopub.execute_input": "2023-10-04T22:03:51.945220Z",
     "iopub.status.busy": "2023-10-04T22:03:51.944370Z",
     "iopub.status.idle": "2023-10-04T22:03:54.558083Z",
     "shell.execute_reply": "2023-10-04T22:03:54.556598Z"
    },
    "papermill": {
     "duration": 2.635434,
     "end_time": "2023-10-04T22:03:54.560104",
     "exception": false,
     "start_time": "2023-10-04T22:03:51.924670",
     "status": "completed"
    },
    "tags": []
   },
   "outputs": [
    {
     "name": "stdout",
     "output_type": "stream",
     "text": [
      "Test Accuracy: 80.83%\n"
     ]
    }
   ],
   "source": [
    "# Now the final step: test the model\n",
    "num_sample = 0\n",
    "num_correct = 0\n",
    "preds = []\n",
    "true_labels = []\n",
    "with torch.no_grad():\n",
    "    for img, label in test_loader:\n",
    "        img, label = img.to(DEVICE), label.to(DEVICE)\n",
    "        output = resnet(img) \n",
    "        _, predicted = torch.max(output, 1)\n",
    "        _, true_label = torch.max(label, 1)\n",
    "        preds += predicted.cpu().numpy().tolist()\n",
    "        true_labels += true_label.cpu().numpy().tolist()\n",
    "        num_sample += label.size(0)\n",
    "        num_correct += (predicted == true_label).sum().item()\n",
    "    test_accuracy = 100 * num_correct/num_sample\n",
    "    print(f\"Test Accuracy: {test_accuracy:.2f}%\")\n"
   ]
  },
  {
   "cell_type": "code",
   "execution_count": 10,
   "id": "e6511853",
   "metadata": {
    "execution": {
     "iopub.execute_input": "2023-10-04T22:03:54.600829Z",
     "iopub.status.busy": "2023-10-04T22:03:54.600519Z",
     "iopub.status.idle": "2023-10-04T22:03:55.265622Z",
     "shell.execute_reply": "2023-10-04T22:03:55.264763Z"
    },
    "papermill": {
     "duration": 0.687554,
     "end_time": "2023-10-04T22:03:55.267496",
     "exception": false,
     "start_time": "2023-10-04T22:03:54.579942",
     "status": "completed"
    },
    "tags": []
   },
   "outputs": [
    {
     "data": {
      "image/png": "[encoded data removed]",
      "text/plain": [
       "<Figure size 1200x400 with 2 Axes>"
      ]
     },
     "metadata": {},
     "output_type": "display_data"
    }
   ],
   "source": [
    "# And visualize the performance\n",
    "# plot train loss by epoch\n",
    "plt.figure(figsize=(12, 4))\n",
    "plt.subplot(1, 2, 1)\n",
    "plt.plot(train_losses, label='Training Loss', color = 'blue')\n",
    "plt.plot(val_losses, label='Validation Loss', color = 'red')\n",
    "plt.xlabel('Epoch')\n",
    "plt.ylabel('Loss')\n",
    "plt.legend()\n",
    "plt.savefig('Loss_plot.png')\n",
    "\n",
    "# plot training and test accuracy curves\n",
    "plt.subplot(1, 2, 2)\n",
    "plt.plot(train_accuracies, label='Training Accuracy', color = 'blue')\n",
    "plt.plot(val_accuracies, label='Validation Accuracy', color = 'red')\n",
    "plt.xlabel('Epoch')\n",
    "plt.ylabel('Accuracy (%)')\n",
    "plt.axhline(y=test_accuracy, color='red', linestyle='--', label='Test Accuracy')\n",
    "plt.legend()\n",
    "plt.savefig('Acc_plot.png')\n",
    "\n",
    "plt.show()"
   ]
  },
  {
   "cell_type": "code",
   "execution_count": 11,
   "id": "bff9699d",
   "metadata": {
    "execution": {
     "iopub.execute_input": "2023-10-04T22:03:55.310191Z",
     "iopub.status.busy": "2023-10-04T22:03:55.309891Z",
     "iopub.status.idle": "2023-10-04T22:03:56.041806Z",
     "shell.execute_reply": "2023-10-04T22:03:56.040899Z"
    },
    "papermill": {
     "duration": 0.755301,
     "end_time": "2023-10-04T22:03:56.043782",
     "exception": false,
     "start_time": "2023-10-04T22:03:55.288481",
     "status": "completed"
    },
    "tags": []
   },
   "outputs": [
    {
     "data": {
      "image/png": "[encoded data removed]",
      "text/plain": [
       "<Figure size 640x480 with 1 Axes>"
      ]
     },
     "metadata": {},
     "output_type": "display_data"
    }
   ],
   "source": [
    "pred_count = Counter(preds)\n",
    "true_count = Counter(true_labels)\n",
    "# And now let's visualize the distribution of frequencies:\n",
    "p_values = pred_count.keys()\n",
    "p_counts = pred_count.values()\n",
    "plt.bar(p_values, p_counts, label = 'Predicted Labels')\n",
    "\n",
    "t_values = list(true_count.keys())\n",
    "t_counts = list(true_count.values())\n",
    "# Create the bar chart\n",
    "plt.bar(t_values, t_counts, alpha=0.25, color='red', label='True Labels')\n",
    "\n",
    "plt.xlabel('Labels')\n",
    "plt.ylabel('Frequency')\n",
    "plt.title('Frequency of Predictions vs True Labels')\n",
    "plt.legend()\n",
    "plt.savefig('pred_vs_true_plot.png')\n",
    "plt.show()"
   ]
  },
  {
   "cell_type": "code",
   "execution_count": null,
   "id": "f191959e",
   "metadata": {
    "papermill": {
     "duration": 0.020338,
     "end_time": "2023-10-04T22:03:56.086084",
     "exception": false,
     "start_time": "2023-10-04T22:03:56.065746",
     "status": "completed"
    },
    "tags": []
   },
   "outputs": [],
   "source": []
  }
 ],
 "metadata": {
  "kernelspec": {
   "display_name": "Python 3",
   "language": "python",
   "name": "python3"
  },
  "language_info": {
   "codemirror_mode": {
    "name": "ipython",
    "version": 3
   },
   "file_extension": ".py",
   "mimetype": "text/x-python",
   "name": "python",
   "nbconvert_exporter": "python",
   "pygments_lexer": "ipython3",
   "version": "3.10.12"
  },
  "papermill": {
   "default_parameters": {},
   "duration": 674.729229,
   "end_time": "2023-10-04T22:04:00.283745",
   "environment_variables": {},
   "exception": null,
   "input_path": "__notebook__.ipynb",
   "output_path": "__notebook__.ipynb",
   "parameters": {},
   "start_time": "2023-10-04T21:52:45.554516",
   "version": "2.4.0"
  }
 },
 "nbformat": 4,
 "nbformat_minor": 5
}
